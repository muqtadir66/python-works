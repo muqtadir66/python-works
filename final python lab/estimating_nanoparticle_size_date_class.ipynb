{
 "cells": [
  {
   "cell_type": "markdown",
   "metadata": {},
   "source": [
    "# Major 4/5 Replacement Assignment\n",
    "Please follow this template in implementing your solution for the take-home assignment. TAs will only consider the code provided in the `CODE CELL` to mark your work. The `TESTING CELL` is provided for your convenience (and to remind you to test your code periodically as you implement your solutions to the given problems!).\n",
    "\n",
    "Remember to:\n",
    "1. `Save and Checkpoint` often!\n",
    "2. `Restart the kernel and Run all cells` to ensure that everything is working properly prior to submission.\n",
    "\n",
    "Good Luck!\n",
    "***"
   ]
  },
  {
   "cell_type": "code",
   "execution_count": 1,
   "metadata": {},
   "outputs": [],
   "source": [
    "Name: Muqtadir Hussain\n",
    "MacID: hussam43"
   ]
  },
  {
   "cell_type": "markdown",
   "metadata": {},
   "source": [
    "## PROBLEM 1"
   ]
  },
  {
   "cell_type": "markdown",
   "metadata": {},
   "source": [
    "### CODE CELL"
   ]
  },
  {
   "cell_type": "code",
   "execution_count": 4,
   "metadata": {},
   "outputs": [],
   "source": [
    "import math\n",
    "import numpy as np\n",
    "import matplotlib.pyplot as plt\n",
    "\n",
    "def ListMaker(file):                     # Creates 2 lists of floats from the .txt file (twoTheta list and intensity list),\n",
    "    with open(file, 'r') as f:           # Removes the 3 asterisks from the intensity list\n",
    "        lines = f.readlines()            # Also returns a list of intensities in string form for use in later functions(y)\n",
    "        twoTheta = [float(line.split()[0]) for line in lines]\n",
    "        y = [(line.split()[1]) for line in lines]\n",
    "        y2 = [i.replace('*', '') for i in y]\n",
    "        intensities = [float(i) for i in y2]\n",
    "        d = [twoTheta, intensities, y]\n",
    "    return d\n",
    "\n",
    "\n",
    "def peakIndex(Lst):                                            # This function takes the list of intensities in string form\n",
    "    IdxLst = [i for i, j in enumerate(Lst) if j.endswith('*')] # and returns a list of indexes for the peak intensities(*)\n",
    "    return IdxLst\n",
    "\n",
    "\n",
    "def BraggAngle(IdxLst,twoThetaLst):                          # This function uses the indexes previously found to find the\n",
    "    peakTheta = []                                           # corresponding twoTheta angles of the peak intensities\n",
    "    peakTheta.append((twoThetaLst[IdxLst[0]]/2)*math.pi/180) # It then returns a list of theta values in radians\n",
    "    peakTheta.append((twoThetaLst[IdxLst[1]]/2)*math.pi/180)\n",
    "    peakTheta.append((twoThetaLst[IdxLst[2]]/2)*math.pi/180)    \n",
    "    return peakTheta\n",
    "\n",
    "def peakIntensity(IdxLst,IntensityLst):             # This function uses the previously found indexes and returns a list of\n",
    "    peakIntensity = []                              # peak intensities\n",
    "    peakIntensity.append((IntensityLst[IdxLst[0]]))\n",
    "    peakIntensity.append((IntensityLst[IdxLst[1]]))\n",
    "    peakIntensity.append((IntensityLst[IdxLst[2]]))\n",
    "    return peakIntensity\n",
    "   \n",
    "def widthApprox(IdxLst,peakIntensityLst,IntensityLst,twoThetaLst):  # Takes list of indexes, peak intensities, intensities\n",
    "    betaApprox = []                                                 # and twoTheta values. Stores half of maximum intensity\n",
    "    for i in range(len(peakIntensityLst)):                          # values in a variable. Using a while loop, it checks\n",
    "        half = peakIntensityLst[i]/2                                # when the value of the intensity becomes smaller than \n",
    "        a =(IdxLst[i])                                              # the half value to the right and to the left. It checks\n",
    "        b =(IdxLst[i])                                              # which value is closer to the actual value  and\n",
    "        while IntensityLst[a] > half:                               # subtracts them to obtain the value of beta. If the \n",
    "            a+=1                                                    # previous index value is closer to the half value we\n",
    "        while IntensityLst[b] > half:                               # use the previous index. Returns list of beta values\n",
    "            b-=1\n",
    "        if IntensityLst[a-1] - half > IntensityLst[a] - half:\n",
    "            beta = twoThetaLst[a] - twoThetaLst[b]\n",
    "        else:\n",
    "            beta = twoThetaLst[a-1] - twoThetaLst[b+1]\n",
    "        \n",
    "        beta = beta*(math.pi/180)\n",
    "        betaApprox.append(beta)\n",
    "    \n",
    "    return betaApprox    \n",
    "                                     \n",
    "def XRD_Analysis(file):                # This is the main function we call for the program to run.\n",
    "    \n",
    "    twoThetaLst = ListMaker(file)[0]   # Here we call all previous functions and define variables for their outputs to\n",
    "    IntensityLst = ListMaker(file)[1]  # use in next function(s). \n",
    "    Lst = ListMaker(file)[2]\n",
    "    IdxLst = peakIndex(Lst)\n",
    "    peakIntensityLst = peakIntensity(IdxLst,IntensityLst)\n",
    "    peakTheta = BraggAngle(IdxLst,twoThetaLst)\n",
    "    betaApprox = widthApprox(IdxLst,peakIntensityLst,IntensityLst,twoThetaLst)\n",
    "    k = 0.9\n",
    "    lamda = 0.07101\n",
    "    \n",
    "    plt.plot(twoThetaLst,IntensityLst)   # Here we plot the values of the originalyy created float list of twoTheta and \n",
    "    plt.xlabel('2Theta(deg)')            # intensity values\n",
    "    plt.ylabel('Intensity')\n",
    "    plt.show\n",
    "    \n",
    "    particleSize = []                            # Here we use all our obtained data and implement the Scherrer Equation\n",
    "    for i in range(len(betaApprox)):             # We find all three tau values and append them to a list after             \n",
    "        numerator = k*lamda                      # which we find the average value for particle size\n",
    "        denominator = betaApprox[i]*(math.cos(peakTheta[i]))\n",
    "        t = (numerator/denominator)\n",
    "        particleSize.append(t)\n",
    "        AvgParticleSize = sum(particleSize)/len(particleSize)\n",
    "        \n",
    "    print('The average partice size is', AvgParticleSize, 'nm')\n",
    "    #return AvgParticleSize\n",
    "   \n",
    "    \n",
    "    \n",
    "        \n",
    "\n",
    "# Place all function definitions required for Problem 1 in this cell.\n"
   ]
  },
  {
   "cell_type": "markdown",
   "metadata": {},
   "source": [
    "### TESTING CELL"
   ]
  },
  {
   "cell_type": "code",
   "execution_count": 5,
   "metadata": {},
   "outputs": [
    {
     "name": "stdout",
     "output_type": "stream",
     "text": [
      "The average partice size is 6.616782999929845 nm\n",
      "The average partice size is 9.711050619377795 nm\n"
     ]
    },
    {
     "data": {
      "image/png": "[encoded data removed]",
      "text/plain": [
       "<Figure size 432x288 with 1 Axes>"
      ]
     },
     "metadata": {
      "needs_background": "light"
     },
     "output_type": "display_data"
    }
   ],
   "source": [
    "XRD_Analysis('XRD_example1.txt')\n",
    "XRD_Analysis('XRD_example2.txt')\n",
    "\n",
    "\n",
    "# You may write out function calls for Problem 1 in this cell to test your solution.\n"
   ]
  },
  {
   "cell_type": "markdown",
   "metadata": {},
   "source": [
    "***"
   ]
  },
  {
   "cell_type": "markdown",
   "metadata": {},
   "source": [
    "## PROBLEM 2"
   ]
  },
  {
   "cell_type": "markdown",
   "metadata": {},
   "source": [
    "### CODE CELL"
   ]
  },
  {
   "cell_type": "code",
   "execution_count": 2,
   "metadata": {},
   "outputs": [],
   "source": [
    "class Date:\n",
    "    # This is the Constructor\n",
    "    def __init__(self,d,m,y):\n",
    "        try:\n",
    "            if 1 <=d<=31 and 1<=m<=12:\n",
    "                                              # d is the day, m is the month, y is the year\n",
    "                self.d = d\n",
    "                self.m = m\n",
    "                self.y = y\n",
    "                self.feb = LeapY(self.y)\n",
    "                self.dom = {1:31, 2:self.feb, 3:31, 4:30, 5:31, 6:30, 7:31, 8:31, 9:30, 10:31, 11:30, 12:31}\n",
    "            else:\n",
    "                \"1\"/0\n",
    "        except TypeError:\n",
    "                print(\"Incorrect date\")\n",
    "        \n",
    "        #Accessor Methods\n",
    "        def getDay(self):\n",
    "            return self.d\n",
    "        \n",
    "        def getMonth(self):\n",
    "            return self.m\n",
    "        \n",
    "        def getYear(self):\n",
    "            return self.y\n",
    "        \n",
    "        def Next(self):                                  # if the date is december 31, return the first day of the next year\n",
    "            if self.d == 31 and self.m == 12:            # if the date is the 31st of any other month(with 31 days), \n",
    "                return (Date(1,1,self.y + 1))            # return the first day of the next month\n",
    "            elif self.d == self.dom[self.m]:             # if the date is not the 31st, return the next day\n",
    "                return (Date(1,self.m + 1, self.y))\n",
    "            else:\n",
    "                return (Date(self.d + 1, self.m, self.y))\n",
    "            \n",
    "        def Prev(self):                         # if date is 1st day of 1st month, return dec 31 of previous year\n",
    "            if self.d == 1 and self.m == 1:     # if the month is first day of march in a leap year, return feb 29 \n",
    "                return (Date(1,1,self.y - 1))   # if the month is the first day of march in a non leap year, return feb 28\n",
    "            elif self.d == 1:\n",
    "                return (Date(self.dom[self.m - 1],self.m - 1,self.y))\n",
    "            else:\n",
    "                return (Date(self.d - 1,self.m,self.y))\n",
    "               \n",
    "        def isBefore(self,d):\n",
    "            if self.y < d.y:                        # if year is smaller return True\n",
    "                return True                         # if year is bigger return False\n",
    "            elif self.m < d.m:                      # if year is same but month is smaller return True\n",
    "                return True                         # if year is same but month is bigger return False\n",
    "            elif self.d < d.d:                      # if year and month are the same, but the day is smaller return True\n",
    "                return True                         # date is the same or bigger so return False\n",
    "            else:\n",
    "                return False\n",
    "        \n",
    "        def isAfter(self,d):        # if year is bigger return True\n",
    "            if self.y > d.y:        # if year is smaller return False\n",
    "                return True         # if year is same but month is bigger return True\n",
    "            elif self.m > d.m:      # if year is same but month is smaller return False\n",
    "                return True         # if year and month are the same, but the day is bigger return True\n",
    "            elif self.d > d.d:      # date is the same or smaller so return False\n",
    "                return True\n",
    "            else:\n",
    "                return False\n",
    "            \n",
    "        def isEqual(self,d):                                      # check if year, month and day are all the same.\n",
    "            if self.d == d.d and self.m == d.m and self.y == d.y:\n",
    "                return True\n",
    "            else:\n",
    "                return False\n",
    "            \n",
    "        #def add_days(self,n):\n",
    "        \n",
    "        #def days_between(self,d):\n",
    "        \n",
    "        def LeapY(self,y):      # method to check if date is in leap year, if year is divisible by 400 then year is leap\n",
    "            if (self.y % 4 == 0) and ((self.y % 1 != 0) or (self.y % 400 == 0)):\n",
    "                self.feb = 29   # if year is divisible by 4, 100 but not 400 then year is not leap\n",
    "            else:               # if year is not divisible by 4 then year is not leap\n",
    "                self.feb = 28\n",
    "            return self.feb\n",
    "        \n",
    "    \n",
    "# Place all function/class definitions required for Problem 2 in this cell.\n"
   ]
  },
  {
   "cell_type": "markdown",
   "metadata": {},
   "source": [
    "### TESTING CELL"
   ]
  },
  {
   "cell_type": "code",
   "execution_count": 3,
   "metadata": {},
   "outputs": [],
   "source": [
    "\n",
    "# You may write out method calls for Problem 2 in this cell to test your solution.\n"
   ]
  },
  {
   "cell_type": "markdown",
   "metadata": {},
   "source": [
    "***"
   ]
  },
  {
   "cell_type": "markdown",
   "metadata": {},
   "source": [
    "## Extra Practice Cells (note that TAs will not consider the cells below when marking)"
   ]
  },
  {
   "cell_type": "code",
   "execution_count": null,
   "metadata": {},
   "outputs": [],
   "source": []
  },
  {
   "cell_type": "code",
   "execution_count": null,
   "metadata": {},
   "outputs": [],
   "source": []
  },
  {
   "cell_type": "code",
   "execution_count": null,
   "metadata": {},
   "outputs": [],
   "source": []
  },
  {
   "cell_type": "code",
   "execution_count": null,
   "metadata": {},
   "outputs": [],
   "source": []
  },
  {
   "cell_type": "code",
   "execution_count": null,
   "metadata": {},
   "outputs": [],
   "source": []
  },
  {
   "cell_type": "code",
   "execution_count": null,
   "metadata": {},
   "outputs": [],
   "source": []
  },
  {
   "cell_type": "code",
   "execution_count": null,
   "metadata": {},
   "outputs": [],
   "source": []
  },
  {
   "cell_type": "code",
   "execution_count": null,
   "metadata": {},
   "outputs": [],
   "source": []
  }
 ],
 "metadata": {
  "kernelspec": {
   "display_name": "Python 3",
   "language": "python",
   "name": "python3"
  },
  "language_info": {
   "codemirror_mode": {
    "name": "ipython",
    "version": 3
   },
   "file_extension": ".py",
   "mimetype": "text/x-python",
   "name": "python",
   "nbconvert_exporter": "python",
   "pygments_lexer": "ipython3",
   "version": "3.7.4"
  },
  "varInspector": {
   "cols": {
    "lenName": 16,
    "lenType": 16,
    "lenVar": 40
   },
   "kernels_config": {
    "python": {
     "delete_cmd_postfix": "",
     "delete_cmd_prefix": "del ",
     "library": "var_list.py",
     "varRefreshCmd": "print(var_dic_list())"
    },
    "r": {
     "delete_cmd_postfix": ") ",
     "delete_cmd_prefix": "rm(",
     "library": "var_list.r",
     "varRefreshCmd": "cat(var_dic_list()) "
    }
   },
   "types_to_exclude": [
    "module",
    "function",
    "builtin_function_or_method",
    "instance",
    "_Feature"
   ],
   "window_display": false
  }
 },
 "nbformat": 4,
 "nbformat_minor": 2
}
